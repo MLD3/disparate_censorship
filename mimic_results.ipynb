{
 "cells": [
  {
   "cell_type": "markdown",
   "id": "4ee42be0",
   "metadata": {},
   "source": [
    "# MIMIC Results"
   ]
  },
  {
   "cell_type": "code",
   "execution_count": null,
   "id": "31ff215a",
   "metadata": {},
   "outputs": [],
   "source": [
    "import os\n",
    "import numpy as np\n",
    "import pandas as pd\n",
    "\n",
    "import psycopg2\n",
    "from tqdm.notebook import tqdm\n",
    "tqdm.pandas()\n",
    "from typing import List, Optional\n",
    "\n",
    "import matplotlib.pyplot as plt\n",
    "import matplotlib\n",
    "import seaborn as sns\n",
    "sns.set_theme(style=\"white\")\n",
    "plt.rcParams.update({\n",
    "    \"font.family\": \"serif\",\n",
    "    \"font.serif\": [\"Computer Modern\"],\n",
    "})"
   ]
  },
  {
   "cell_type": "code",
   "execution_count": null,
   "id": "8eef149d",
   "metadata": {},
   "outputs": [],
   "source": [
    "MIMIC_FOLDER = \"\" # YOUR FOLDER HERE\n",
    "conn = psycopg2.connect(\"user=<YOUR USERNAME HERE> password=<YOUR PASSWORD HERE> host=127.0.0.1\")\n",
    "\n",
    "def build_query(\n",
    "    table_name: str,\n",
    "    column_names: Optional[List[str]] = None,\n",
    "    conditions: Optional[List[str]] = None,\n",
    "    limit: Optional[int] = None\n",
    "):\n",
    "    if column_names is not None:\n",
    "        col_str = \",\".join(column_names)\n",
    "    else:\n",
    "        col_str = \"*\"\n",
    "    limit_str = \"\"\n",
    "    if limit is not None:\n",
    "        limit_str += f\" LIMIT {limit}\"\n",
    "    condition_str = \"\"\n",
    "    if conditions is not None:\n",
    "        condition_str += (\" WHERE \" + \" AND \".join(conditions))\n",
    "    return f\"SELECT {col_str} from {table_name}\" + condition_str + limit_str\n",
    "\n",
    "\n",
    "def run_query(query: str, preview: Optional[bool] = True, save_to: str = None, **kwargs):\n",
    "    print(\"EXECUTING QUERY:\", query)\n",
    "    df = pd.read_sql_query(query, conn)\n",
    "    if preview:\n",
    "        display(df)\n",
    "    if save_to is not None:\n",
    "        print(f\"Saved to {save_to}\")\n",
    "        df.to_csv(save_to, **kwargs)\n",
    "    return df\n",
    "        "
   ]
  },
  {
   "cell_type": "markdown",
   "id": "c9bc2901",
   "metadata": {},
   "source": [
    "## List tables in Postgres\n",
    "\n",
    "Check to see if tables from MIMIC are present. Follow instructions from [the MIMIC repository](https://github.com/MIT-LCP/mimic-code/tree/main/mimic-iv/concepts) to generate the relevant Postgres tables."
   ]
  },
  {
   "cell_type": "code",
   "execution_count": null,
   "id": "0cdf6fad",
   "metadata": {},
   "outputs": [],
   "source": [
    "CONCEPT_LIST_QUERY = build_query(\"pg_tables\", conditions=[\"schemaname = 'mimic_derived'\"])\n",
    "run_query(CONCEPT_LIST_QUERY)"
   ]
  },
  {
   "cell_type": "markdown",
   "id": "7a8fdfc1",
   "metadata": {},
   "source": [
    "## Load data"
   ]
  },
  {
   "cell_type": "code",
   "execution_count": null,
   "id": "27c287fd",
   "metadata": {},
   "outputs": [],
   "source": [
    "patients_df = pd.read_csv(f\"{MIMIC_FOLDER}/mimiciv/1.0/core/patients.csv\")\n",
    "hadms = pd.read_csv(f\"{MIMIC_FOLDER}/mimiciv/1.0/core/admissions.csv\", low_memory=False)\n",
    "labs_df = pd.read_csv(\"/data4/mimiciv/1.0/hosp/labevents.csv\", low_memory=False)\n",
    "micros_df = pd.read_csv(\"/data4/mimiciv/1.0/hosp/microbiologyevents.csv\", low_memory=False)\n",
    "lab_items_df = pd.read_csv(\"/data4/mimiciv/1.0/hosp/d_labitems.csv\", low_memory=False)\n",
    "\n",
    "hadms[\"gender\"] = hadms.apply(lambda x: patients_df[patients_df.subject_id == x.subject_id].gender.item(), axis=1)\n"
   ]
  },
  {
   "cell_type": "code",
   "execution_count": null,
   "id": "8ece75d6",
   "metadata": {},
   "outputs": [],
   "source": [
    "white_hadms = set(hadms[hadms.ethnicity == \"WHITE\"].hadm_id.dropna().tolist())\n",
    "black_hadms = set(hadms[hadms.ethnicity == \"BLACK/AFRICAN AMERICAN\"].hadm_id.dropna().tolist())"
   ]
  },
  {
   "cell_type": "markdown",
   "id": "0e4db223",
   "metadata": {},
   "source": [
    "### Summarize data"
   ]
  },
  {
   "cell_type": "code",
   "execution_count": null,
   "id": "6cd257f1",
   "metadata": {},
   "outputs": [],
   "source": [
    "print(\"# of all admissions:\", len(np.unique(hadms.hadm_id)))\n",
    "print(\"# of Black patient admissions:\", len(np.unique(hadms[hadms.ethnicity == \"BLACK/AFRICAN AMERICAN\"].hadm_id)))\n",
    "print(\"# of White patient admissions:\", len(np.unique(hadms[hadms.ethnicity == \"WHITE\"].hadm_id)))"
   ]
  },
  {
   "cell_type": "markdown",
   "id": "035ec135",
   "metadata": {},
   "source": [
    "## CBC "
   ]
  },
  {
   "cell_type": "code",
   "execution_count": null,
   "id": "86067aea",
   "metadata": {},
   "outputs": [],
   "source": [
    "from statsmodels.stats.proportion import test_proportions_2indep \n",
    "\n",
    "def test_disparate_censorship(lab_df, white_hadms=white_hadms, black_hadms=black_hadms):\n",
    "    lab_hadms = set(lab_df.hadm_id.dropna().tolist())\n",
    "\n",
    "    Nt_a0 = len(lab_hadms & white_hadms) \n",
    "    Nt_a1 = len(lab_hadms & black_hadms)\n",
    "    print(Nt_a0 + Nt_a1, f\"({100 * (Nt_a0 + Nt_a1) / (len(white_hadms) + len(black_hadms)):.2f}%)\", \"admissions with tests found in study population\")\n",
    "    statistic, pval = test_proportions_2indep(Nt_a0, len(white_hadms), Nt_a1, len(black_hadms), value=0., compare='diff', alternative='two-sided')\n",
    "    rate0, rate1 = Nt_a0 / len(white_hadms), Nt_a1 / len(black_hadms)\n",
    "    print(f\"P(T|WHITE) = {100*rate0:.2f}% ({Nt_a0}/{len(white_hadms)})\")\n",
    "    print(f\"P(T|BLACK) = {100*rate1:.2f}% ({Nt_a1}/{len(black_hadms)})\")\n",
    "    print(\"z:\", statistic, \"p:\", pval)\n",
    "    return statistic, pval, rate0, rate1"
   ]
  },
  {
   "cell_type": "code",
   "execution_count": null,
   "id": "90462774",
   "metadata": {
    "scrolled": true
   },
   "outputs": [],
   "source": [
    "cbc_df = run_query(build_query(\"mimic_derived.complete_blood_count\", column_names=[\"*\"]), preview=True)"
   ]
  },
  {
   "cell_type": "code",
   "execution_count": null,
   "id": "47c2ac79",
   "metadata": {},
   "outputs": [],
   "source": [
    "z_cbc, p_cbc, w_cbc, b_cbc = test_disparate_censorship(cbc_df)"
   ]
  },
  {
   "cell_type": "code",
   "execution_count": null,
   "id": "64c17b9f",
   "metadata": {},
   "outputs": [],
   "source": [
    "cbc_with_diff_df = run_query(build_query(\"mimic_derived.blood_differential\", column_names=[\"*\"]), preview=True)\n"
   ]
  },
  {
   "cell_type": "code",
   "execution_count": null,
   "id": "18830d35",
   "metadata": {},
   "outputs": [],
   "source": [
    "cbc_diff_corrected = cbc_with_diff_df.drop(columns=[\"wbc\"]).dropna(how=\"all\",\n",
    "                                                                        subset=[\"basophils_abs\",\n",
    "                                                                                \"eosinophils_abs\",\n",
    "                                                                                \"lymphocytes_abs\",\n",
    "                                                                                \"monocytes_abs\",\n",
    "                                                                                \"neutrophils_abs\",\n",
    "                                                                                \"basophils\",\n",
    "                                                                                \"eosinophils\",\n",
    "                                                                                \"lymphocytes\",\"monocytes\",\n",
    "                                                                                \"neutrophils\",\n",
    "                                                                                \"atypical_lymphocytes\",\n",
    "                                                                                \"bands\",\n",
    "                                                                                \"immature_granulocytes\",\n",
    "                                                                                \"metamyelocytes\",\n",
    "                                                                                \"nrbc\"])\n",
    "z_cbcdiff, p_cbcdiff, w_cbcdiff, b_cbcdiff = test_disparate_censorship(cbc_diff_corrected)"
   ]
  },
  {
   "cell_type": "markdown",
   "id": "eda42bf3",
   "metadata": {},
   "source": [
    "## Troponin T"
   ]
  },
  {
   "cell_type": "code",
   "execution_count": null,
   "id": "55d2f9b2",
   "metadata": {},
   "outputs": [],
   "source": [
    "cardiac_df = run_query(build_query(\"mimic_derived.cardiac_marker\", column_names=[\"*\"]), preview=True)\n"
   ]
  },
  {
   "cell_type": "code",
   "execution_count": null,
   "id": "d065e520",
   "metadata": {},
   "outputs": [],
   "source": [
    "z_trop, p_trop, w_trop, b_trop = test_disparate_censorship(cardiac_df.dropna(subset=[\"troponin_t\"]))\n"
   ]
  },
  {
   "cell_type": "markdown",
   "id": "131567a0",
   "metadata": {},
   "source": [
    "## BNP"
   ]
  },
  {
   "cell_type": "code",
   "execution_count": null,
   "id": "424a517c",
   "metadata": {},
   "outputs": [],
   "source": [
    "z_bnp, p_bnp, w_bnp, b_bnp = test_disparate_censorship(labs_df[labs_df.itemid == 50963]) # BNP\n"
   ]
  },
  {
   "cell_type": "markdown",
   "id": "0ec1fdc1",
   "metadata": {},
   "source": [
    "## D-dimer"
   ]
  },
  {
   "cell_type": "code",
   "execution_count": null,
   "id": "aff32ada",
   "metadata": {},
   "outputs": [],
   "source": [
    "clot_df = run_query(build_query(\"mimic_derived.coagulation\", column_names=[\"*\"]), preview=True)\n"
   ]
  },
  {
   "cell_type": "code",
   "execution_count": null,
   "id": "cbb03ab6",
   "metadata": {},
   "outputs": [],
   "source": [
    "z_ddimer, p_ddimer, w_ddimer, b_ddimer = test_disparate_censorship(clot_df.dropna(subset=[\"d_dimer\"]))\n"
   ]
  },
  {
   "cell_type": "markdown",
   "id": "fd8806c0",
   "metadata": {},
   "source": [
    "## ABG"
   ]
  },
  {
   "cell_type": "code",
   "execution_count": null,
   "id": "f41fe660",
   "metadata": {},
   "outputs": [],
   "source": [
    "abg_df = run_query(build_query(\"mimic_derived.bg\", column_names=[\"*\"]), preview=True)\n"
   ]
  },
  {
   "cell_type": "code",
   "execution_count": null,
   "id": "1328c9cf",
   "metadata": {},
   "outputs": [],
   "source": [
    "z_abg, p_abg, w_abg, b_abg = test_disparate_censorship(abg_df.dropna(how=\"all\", subset=[\"po2\",\"pco2\"]))"
   ]
  },
  {
   "cell_type": "markdown",
   "id": "75bb68d4",
   "metadata": {},
   "source": [
    "## BMP"
   ]
  },
  {
   "cell_type": "code",
   "execution_count": null,
   "id": "699002c5",
   "metadata": {},
   "outputs": [],
   "source": [
    "bmp_df = run_query(build_query(\"mimic_derived.chemistry\", column_names=[\"*\"]), preview=True)\n"
   ]
  },
  {
   "cell_type": "code",
   "execution_count": null,
   "id": "e0981eff",
   "metadata": {},
   "outputs": [],
   "source": [
    "bmp_df_corrected = bmp_df.dropna(how=\"all\", subset=[\"bicarbonate\",\"bun\",\"calcium\",\"chloride\",\"creatinine\",\"glucose\",\"sodium\",\"potassium\"])\n",
    "\n",
    "z_bmp, p_bmp, w_bmp, b_bmp = test_disparate_censorship(bmp_df_corrected)"
   ]
  },
  {
   "cell_type": "markdown",
   "id": "01e2d165",
   "metadata": {},
   "source": [
    "## Blood culture orders"
   ]
  },
  {
   "cell_type": "code",
   "execution_count": null,
   "id": "50ea3029",
   "metadata": {},
   "outputs": [],
   "source": [
    "blood_cultures_df = micros_df[(micros_df.spec_type_desc == \"BLOOD CULTURE\") & ~micros_df.hadm_id.isna()]\n"
   ]
  },
  {
   "cell_type": "code",
   "execution_count": null,
   "id": "712c642c",
   "metadata": {
    "scrolled": true
   },
   "outputs": [],
   "source": [
    "z_bc, p_bc, w_bc, b_bc = test_disparate_censorship(blood_cultures_df)"
   ]
  },
  {
   "cell_type": "markdown",
   "id": "c879f4e3",
   "metadata": {},
   "source": [
    "## CXR\n",
    "\n",
    "Note: after re-running and regenerating CXR testing info, the CXR testing disparity does not appear to be significant. Thus, the generated figure slightly differs from the paper."
   ]
  },
  {
   "cell_type": "code",
   "execution_count": null,
   "id": "b26b2269",
   "metadata": {},
   "outputs": [],
   "source": [
    "# created using notebook at https://github.com/MIT-LCP/mimic-cxr/blob/master/dcm/create-mimic-cxr-jpg-metadata.ipynb\n",
    "cxrs = pd.read_csv(\"/path/to/mimic-cxr-2.0.0-metadata.csv.gz\")"
   ]
  },
  {
   "cell_type": "code",
   "execution_count": null,
   "id": "381b42ff",
   "metadata": {},
   "outputs": [],
   "source": [
    "from datetime import datetime\n",
    "from functools import partial\n",
    "import re\n",
    "\n",
    "\n",
    "def datestr_to_time(date_str):\n",
    "    return datetime.strptime(date_str, '%Y-%m-%d %H:%M:%S')\n",
    "\n",
    "def select_hadm_id_by_time(record):\n",
    "    def filter_nonnumerics(i, s):\n",
    "        return int(''.join(re.findall(r'\\d+', s.split()[i])))\n",
    "    \n",
    "    hadms_for_patient = hadms[hadms.subject_id == record.subject_id]\n",
    "    if not len(hadms_for_patient): return None\n",
    "\n",
    "    hadms_for_patient[\"admittime_numeric\"] = hadms_for_patient.admittime.apply(partial(filter_nonnumerics, 0))\n",
    "    hadms_for_patient[\"dischtime_numeric\"] = hadms_for_patient.dischtime.apply(partial(filter_nonnumerics, 0))\n",
    "    \n",
    "    candidate_records = hadms_for_patient[(hadms_for_patient.admittime_numeric <= record.StudyDate) \\\n",
    "                      & (record.StudyDate <= hadms_for_patient.dischtime_numeric)]\n",
    "    if not len(candidate_records): return None\n",
    "    if len(candidate_records) > 1:\n",
    "        candidate_records[\"admittime_tod_numeric\"] = hadms_for_patient.admittime.apply(partial(filter_nonnumerics, 1))\n",
    "        candidate_records[\"dischtime_tod_numeric\"] = hadms_for_patient.dischtime.apply(partial(filter_nonnumerics, 1))\n",
    "\n",
    "        candidate_records = candidate_records[(candidate_records.admittime_tod_numeric) <= int(record.StudyTime) \\\n",
    "                                             & (int(record.StudyTime) <= candidate_records.dischtime_tod_numeric)]\n",
    "        if len(candidate_records) != 1: return None # not for an admission\n",
    "    return candidate_records.hadm_id.item() \n",
    "\n",
    "cxrs[\"hadm_id\"] = cxrs.progress_apply(select_hadm_id_by_time, axis=1)\n"
   ]
  },
  {
   "cell_type": "code",
   "execution_count": null,
   "id": "14b1b709",
   "metadata": {},
   "outputs": [],
   "source": [
    "len(cxrs.hadm_id.unique())"
   ]
  },
  {
   "cell_type": "code",
   "execution_count": null,
   "id": "3c56f8b5",
   "metadata": {},
   "outputs": [],
   "source": [
    "cxr_cohort = pd.unique(patients_df[patients_df.anchor_year_group.isin([\"2011 - 2013\", '2014 - 2016'])].subject_id)\n",
    "cxr_hadms = set(hadms[hadms.subject_id.isin(cxr_cohort)].hadm_id)\n",
    "white_cxr_hadms = white_hadms & cxr_hadms\n",
    "black_cxr_hadms = black_hadms & cxr_hadms\n",
    "\n",
    "z_cxr, p_cxr, w_cxr, b_cxr = test_disparate_censorship(cxrs, white_hadms=white_cxr_hadms, black_hadms=black_cxr_hadms)\n"
   ]
  },
  {
   "cell_type": "markdown",
   "id": "240f25cb",
   "metadata": {},
   "source": [
    "## Disparate censorship in MIMIC: Plot"
   ]
  },
  {
   "cell_type": "code",
   "execution_count": null,
   "id": "4178a4e4",
   "metadata": {},
   "outputs": [],
   "source": [
    "\n",
    "\n",
    "test_results = pd.DataFrame([\n",
    "    [\"cbc\", w_cbc, \"White\"],\n",
    "    [\"cbc\", b_cbc, \"Black\"],\n",
    "    [\"bmp\", w_bmp, \"White\"],\n",
    "    [\"bmp\", b_bmp, \"Black\"],\n",
    "    [\"cbc with\\ndiff.\", w_cbcdiff, \"White\"], \n",
    "    [\"cbc with\\ndiff.\", b_cbcdiff, \"Black\"],\n",
    "    [\"blood\\nculture\", w_bc, \"White\"], \n",
    "    [\"blood\\nculture\", b_bc, \"Black\"], \n",
    "    [\"cxr\", w_cxr, \"White\"],\n",
    "    [\"cxr\", b_cxr, \"Black\"],\n",
    "    [\"abg\", w_abg, \"White\"], \n",
    "    [\"abg\", b_abg, \"Black\"],\n",
    "    [\"troponin t\", w_trop, \"White\"],\n",
    "    [\"troponin t\", b_trop, \"Black\"], \n",
    "    [\"bnp\", w_bnp, 'White'],\n",
    "    [\"bnp\", b_bnp, 'Black'], \n",
    "    [\"d-dimer\", w_ddimer, \"White\"], \n",
    "    [\"d-dimer\", b_ddimer, \"Black\"], \n",
    "], columns=[\"test\", \"test rate\", \"race\"])\n",
    "pvalues = {\n",
    "    \"cbc\": p_cbc,\n",
    "    \"bmp\": p_bmp,\n",
    "    \"cbc with\\ndiff.\": p_cbcdiff,\n",
    "    \"blood\\nculture\": p_bc,\n",
    "    \"cxr\": p_cxr,\n",
    "    \"abg\": p_abg,\n",
    "    \"troponin t\":  p_trop,\n",
    "    \"bnp\": p_bmp,\n",
    "    \"d-dimer\": p_ddimer,\n",
    "}\n",
    "\n",
    "\n",
    "test_results[\"test rate\"] *= 100\n",
    "g = sns.catplot(\n",
    "    data=test_results, kind=\"bar\",\n",
    "    x=\"test\", y=\"test rate\", hue=\"race\",\n",
    "    palette=\"mako\", alpha=1, height=2., aspect=len(np.unique(test_results.test)) / 2.6,\n",
    "    dodge=True,\n",
    ")\n",
    "g.set_axis_labels(\"Test name\", \"Testing rate\")\n",
    "plt.title(\"Disparate censorship in MIMIC-IV\")\n",
    "plt.vlines(np.arange(len(np.unique(test_results.test))) + 0.5, ymin=-10, ymax=42, color=\"#dddddd\")\n",
    "\n",
    "LINE_SP = 5\n",
    "LINE_H = 8\n",
    "BAR_OFFSET = 1/5\n",
    "LW = 0.5\n",
    "TEXT_H = 15\n",
    "for i, (name, group) in enumerate(test_results.groupby(\"test\", sort=False)):\n",
    "    white_test_rate = group[group.race==\"White\"][\"test rate\"].item()\n",
    "    black_test_rate = group[group.race==\"Black\"][\"test rate\"].item()\n",
    "    line_top = max(white_test_rate, black_test_rate) + LINE_H\n",
    "    plt.vlines(i  - BAR_OFFSET, ymin=white_test_rate, ymax=line_top, color='black', linewidth=LW)\n",
    "    plt.vlines(i + BAR_OFFSET, ymin=black_test_rate, ymax=line_top, color='black', linewidth=LW)\n",
    "    plt.hlines(line_top, xmin=i-BAR_OFFSET, xmax=i+BAR_OFFSET, color='black', linewidth=LW)\n",
    "    plt.text(i, line_top + LINE_SP, \"**\" if pvalues[name] < 0.05 / len(pvalues) else f\"p={pvalues[name]:.2f}\", horizontalalignment='center')\n",
    "\n",
    "plt.xlim((-0.5, len(np.unique(test_results.test)) - 0.5))\n",
    "plt.ylim((0, max(test_results[\"test rate\"]) + LINE_H + TEXT_H))\n",
    "sns.move_legend(g, \"upper right\", bbox_to_anchor=(0.91, 1.), title=\"Race\")\n",
    "plt.savefig(\"mimic_testing_disparities.pdf\", bbox_inches='tight')\n",
    "\n"
   ]
  },
  {
   "cell_type": "code",
   "execution_count": null,
   "id": "891e6205",
   "metadata": {},
   "outputs": [],
   "source": []
  }
 ],
 "metadata": {
  "kernelspec": {
   "display_name": "Python 3 (ipykernel)",
   "language": "python",
   "name": "python3"
  },
  "language_info": {
   "codemirror_mode": {
    "name": "ipython",
    "version": 3
   },
   "file_extension": ".py",
   "mimetype": "text/x-python",
   "name": "python",
   "nbconvert_exporter": "python",
   "pygments_lexer": "ipython3",
   "version": "3.7.12"
  }
 },
 "nbformat": 4,
 "nbformat_minor": 5
}
